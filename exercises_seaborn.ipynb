{
 "cells": [
  {
   "cell_type": "code",
   "execution_count": null,
   "metadata": {},
   "outputs": [],
   "source": [
    "import pandas as pd\n",
    "import numpy as np\n",
    "\n",
    "from matplotlib import pyplot as plt"
   ]
  },
  {
   "cell_type": "markdown",
   "metadata": {},
   "source": [
    "### Seaborn\n",
    "\n",
    "Seaborn is a library mostly used for statistical plotting in Python. It is built on top of Matplotlib and provides pretty default styles and color palettes to make statistical plots more attractive.\n",
    "\n",
    "We will go through some different types of plots, and show you how to customise those to your heart's content!\n",
    "\n",
    "##### 0. Importing seaborn\n"
   ]
  },
  {
   "cell_type": "code",
   "execution_count": null,
   "metadata": {},
   "outputs": [],
   "source": [
    "import seaborn as sns "
   ]
  },
  {
   "cell_type": "markdown",
   "metadata": {},
   "source": [
    "Alright, now we only need some data:"
   ]
  },
  {
   "cell_type": "code",
   "execution_count": null,
   "metadata": {},
   "outputs": [],
   "source": [
    "participants = pd.read_csv('participants.csv')\n",
    "trials = pd.read_csv('trials.csv')\n",
    "\n",
    "merged = trials.merge(participants, on='id')\n",
    "merged"
   ]
  },
  {
   "attachments": {},
   "cell_type": "markdown",
   "metadata": {},
   "source": [
    "<font color='green'>**Exercise 0:**</font> can you filter out the incorrect trials? Later on, you can add them back in to see whether you can make some interesting plots with them."
   ]
  },
  {
   "cell_type": "code",
   "execution_count": null,
   "metadata": {},
   "outputs": [],
   "source": [
    "### your code here"
   ]
  },
  {
   "cell_type": "markdown",
   "metadata": {},
   "source": [
    "##### 1. Different plotting functions in seaborn\n",
    "There are various kinds of plots that are supported in Seaborn and here we are going to explore a few of them.\n",
    "\n",
    "Using the `lineplot()` method from seaborn, we can have a look at the data:"
   ]
  },
  {
   "cell_type": "code",
   "execution_count": null,
   "metadata": {},
   "outputs": [],
   "source": [
    "sns.lineplot(x='age', y='RT', data=merged)\n",
    "plt.show()"
   ]
  },
  {
   "cell_type": "markdown",
   "metadata": {},
   "source": [
    "Or we can make a `boxplot()`:"
   ]
  },
  {
   "cell_type": "code",
   "execution_count": null,
   "metadata": {},
   "outputs": [],
   "source": [
    "sns.boxplot(x='condition', y='RT', data=merged)\n",
    "plt.show()"
   ]
  },
  {
   "cell_type": "markdown",
   "metadata": {},
   "source": [
    "##### 2. Visualising (more complex) relationships\n",
    "\n",
    "The Seaborn library provides us with `relplot()` function and this function provides access to several different axes-level functions that show the relationship between two variables with semantic mappings of subsets. The kind parameter selects the underlying axes-level function to use:\n",
    "- `scatterplot()` (with kind=”scatter”)\n",
    "- `lineplot()` (with kind=”line”)\n",
    "The default value for the parameter kind is ‘scatter’ which means that by default this function would return a scatterplot. Here are a few examples of this function:"
   ]
  },
  {
   "cell_type": "code",
   "execution_count": null,
   "metadata": {},
   "outputs": [],
   "source": [
    "sns.relplot(x='condition', y='RT', data=merged)\n",
    "plt.show()"
   ]
  },
  {
   "cell_type": "code",
   "execution_count": null,
   "metadata": {},
   "outputs": [],
   "source": [
    "sns.relplot(x='age', y='RT', col='condition', data=merged, kind='line')\n",
    "plt.show()"
   ]
  },
  {
   "cell_type": "markdown",
   "metadata": {},
   "source": [
    "<font color='green'>**Exercise 1:**</font> try out different plot types, e.g.\n",
    "- `dogplot`\n",
    "- `lmplot` \n",
    "- `violinplot`\n",
    "- Bonus: `heatmap` (`group` x `condition` with `RT` represented by hue)"
   ]
  },
  {
   "cell_type": "code",
   "execution_count": null,
   "metadata": {},
   "outputs": [],
   "source": [
    "### your code here"
   ]
  },
  {
   "cell_type": "markdown",
   "metadata": {},
   "source": [
    "##### 3. Using seaborn with matplotlib\n",
    "Seaborn is a high-level interface to Matplotlib. From our experience, Seaborn will get you pretty plots, but sometimes you'll need to bring in Matplotlib for some final adjustments. Using both Matplotlib and Seaborn together is a very simple process. We just have to invoke the Seaborn Plotting function as normal, and then we can use Matplotlib’s customization function:\n",
    "\n",
    "**2.1 Setting the title using matplotlib**"
   ]
  },
  {
   "cell_type": "code",
   "execution_count": null,
   "metadata": {},
   "outputs": [],
   "source": [
    "sns.boxplot(x='condition', y='RT', data=trials)\n",
    "\n",
    "# setting the title using Matplotlib\n",
    "plt.title('Title using Matplotlib')\n",
    "  \n",
    "plt.show()"
   ]
  },
  {
   "cell_type": "markdown",
   "metadata": {},
   "source": [
    "**2.2 Setting the xlim and ylim**"
   ]
  },
  {
   "cell_type": "code",
   "execution_count": null,
   "metadata": {},
   "outputs": [],
   "source": [
    "sns.boxplot(x='condition', y='RT', data=trials)\n",
    "\n",
    "# setting the title using Matplotlib\n",
    "plt.title('Title using Matplotlib')\n",
    "\n",
    "# setting the x limit of the plot\n",
    "plt.ylim(0, 4000) \n",
    "plt.show()"
   ]
  },
  {
   "cell_type": "markdown",
   "metadata": {},
   "source": [
    "##### 4. Customizing plots\n",
    "\n",
    "Seaborn comes with some customized themes and a high-level interface for customizing the looks of the graphs.\n",
    "\n",
    "**3.1 Changing the style or aesthetic of the plot**\n",
    "\n",
    "`set_style()` method is used to set the aesthetic of the plot. It means it affects things like the color of the axes, whether the grid is active or not, or other aesthetic elements. There are five styles  available in Seaborn:\n",
    "- darkgrid\n",
    "- whitegrid\n",
    "- dark\n",
    "- white\n",
    "- ticks\n",
    "\n",
    "Let's try applying these themes and see how they differ from one another. The default theme of the plot will be Darkgrid which we have seen in the previous example."
   ]
  },
  {
   "cell_type": "code",
   "execution_count": null,
   "metadata": {},
   "outputs": [],
   "source": [
    "sns.set_style('dark')\n",
    "\n",
    "sns.boxplot(x='condition', y='RT', data=trials)\n",
    "# setting the title using Matplotlib\n",
    "plt.title('Title using Matplotlib')\n",
    "# setting the x limit of the plot\n",
    "plt.ylim(0, 4000) \n",
    "plt.show()"
   ]
  },
  {
   "cell_type": "markdown",
   "metadata": {},
   "source": [
    "<font color='green'>**Exercise 2:**</font> set the style to `ticks`"
   ]
  },
  {
   "cell_type": "code",
   "execution_count": null,
   "metadata": {},
   "outputs": [],
   "source": [
    "### your code here"
   ]
  },
  {
   "cell_type": "markdown",
   "metadata": {},
   "source": [
    "Having just a limited number of styles might not be that great as we always wish for some flexibility. Keeping this mind, these styles are customizable and can be customized by passing a dictionary of parameters to the set_style() function of Seaborn library. Parameters available are viewed using axes_style() function as shown below:"
   ]
  },
  {
   "cell_type": "code",
   "execution_count": null,
   "metadata": {},
   "outputs": [],
   "source": [
    "import seaborn as sns\n",
    "param=sns.axes_style()\n",
    "param"
   ]
  },
  {
   "cell_type": "markdown",
   "metadata": {},
   "source": [
    "Changing the values of any of these parameters will alter the plot style and thus we can try various things out to make our plots really different and attractive."
   ]
  },
  {
   "cell_type": "code",
   "execution_count": null,
   "metadata": {},
   "outputs": [],
   "source": [
    "sns.set_style(\"ticks\", {'xtick.color': 'blue', 'font.family':['serif']})\n",
    "sns.boxplot(x='condition', y='RT', data=trials)\n",
    "# setting the title using Matplotlib\n",
    "plt.title('Title using Matplotlib')\n",
    "# setting the x limit of the plot\n",
    "plt.ylim(0, 4000) \n",
    "plt.show()"
   ]
  },
  {
   "cell_type": "markdown",
   "metadata": {},
   "source": [
    "<font color='green'>**Exercise 3:**</font> set the font family to sans-serif"
   ]
  },
  {
   "cell_type": "code",
   "execution_count": null,
   "metadata": {},
   "outputs": [],
   "source": [
    "### your code here"
   ]
  },
  {
   "cell_type": "markdown",
   "metadata": {},
   "source": [
    "**3.2 Removing spines**\n",
    "\n",
    "Spines are the lines noting the data boundaries and connecting the axis tick marks. They can be removed using the despine() method."
   ]
  },
  {
   "cell_type": "code",
   "execution_count": null,
   "metadata": {},
   "outputs": [],
   "source": [
    "sns.set_style('ticks')\n",
    "\n",
    "sns.boxplot(x='condition', y='RT', data=trials)\n",
    "sns.despine(top=True, right=True, left=False, bottom=False, offset=None, trim=False)\n",
    "\n",
    "# setting the title using Matplotlib\n",
    "plt.title('Title using Matplotlib')\n",
    "# setting the x limit of the plot\n",
    "plt.ylim(0, 4000) \n",
    "\n",
    "plt.show()"
   ]
  },
  {
   "cell_type": "code",
   "execution_count": null,
   "metadata": {},
   "outputs": [],
   "source": [
    "sns.set_style('ticks')\n",
    "\n",
    "sns.boxplot(x='condition', y='RT', data=trials)\n",
    "sns.despine(top=True, right=True, left=False, bottom=False, offset=2, trim=True)\n",
    "# setting the title using Matplotlib\n",
    "plt.title('Title using Matplotlib')\n",
    "# setting the x limit of the plot\n",
    "plt.ylim(0, 4000) \n",
    "\n",
    "plt.show()"
   ]
  },
  {
   "cell_type": "markdown",
   "metadata": {},
   "source": [
    "**3.3 Setting the context (scaling the plots)**\n",
    "\n",
    "Seaborn also has a method to scale the plots for a certain goal, overriding the default parameters. For example when you are preparing figures for a poster or a talk, you want your plots to be clear and visible, also from a distance. So you might want to get rid of some of the details and use bigger fonts. Let's try:"
   ]
  },
  {
   "cell_type": "code",
   "execution_count": null,
   "metadata": {},
   "outputs": [],
   "source": [
    "sns.set_style('ticks')\n",
    "sns.set_context(\"talk\")\n",
    "\n",
    "sns.boxplot(x='condition', y='RT', data=trials)\n",
    "sns.despine(top=True, right=True, left=False, bottom=False, offset=2, trim=True)\n",
    "# setting the title using Matplotlib\n",
    "plt.title('Title using Matplotlib')\n",
    "# setting the x limit of the plot\n",
    "plt.ylim(0, 4000) \n",
    "\n",
    "plt.show()"
   ]
  },
  {
   "cell_type": "markdown",
   "metadata": {},
   "source": [
    "For a paper, however, we might need more detailed plots and they can be smaller.\n",
    "\n",
    "<font color='green'>**Exercise 4:**</font> use the `paper` context:\n"
   ]
  },
  {
   "cell_type": "code",
   "execution_count": null,
   "metadata": {},
   "outputs": [],
   "source": [
    "### your code here"
   ]
  },
  {
   "cell_type": "markdown",
   "metadata": {},
   "source": [
    "**3.4 Color palettes**\n",
    "\n",
    "Colormaps are used to visualize plots effectively and easily. The most important function for working with color palettes is, aptly, color_palette(). This function provides an interface to most of the possible ways that one can generate color palettes in seaborn. And it’s used internally by any function that has a palette argument. One might use different sorts of colormaps for different kinds of plots. Let's have a look at the standard color palette. Calling color_palette() with no arguments will return the current default color palette that matplotlib (and most seaborn functions) will use if colors are not otherwise specified:"
   ]
  },
  {
   "cell_type": "code",
   "execution_count": null,
   "metadata": {},
   "outputs": [],
   "source": [
    "# current color palette\n",
    "palette = sns.color_palette()\n",
    "  \n",
    "# palplot() plots the color palette as a horizontal array\n",
    "sns.palplot(palette)\n",
    "  \n",
    "plt.show()"
   ]
  },
  {
   "cell_type": "markdown",
   "metadata": {},
   "source": [
    "**3.5 Using a different palette**\n",
    "\n",
    "*qualitative color palettes*\n",
    "\n",
    "Qualitative palettes are well-suited to representing categorical data because most of their variation is in the hue component. The default color palette in seaborn is a qualitative palette with ten distinct hues (as we've just seen). Seaborn has six variations of this palette, called `deep`, `muted`, `pastel`, `bright`, `dark`, and `colorblind`. These span a range of average luminance and saturation values:"
   ]
  },
  {
   "cell_type": "code",
   "execution_count": null,
   "metadata": {},
   "outputs": [],
   "source": [
    "# current color palette\n",
    "palette = sns.color_palette('dark')\n",
    "  \n",
    "# palplot() plots the color palette as a horizontal array\n",
    "sns.palplot(palette)\n",
    "  \n",
    "plt.show()"
   ]
  },
  {
   "cell_type": "markdown",
   "metadata": {},
   "source": [
    "<font color='green'>**Exercise 5:**</font> Plot the pastel and colorblind palettes"
   ]
  },
  {
   "cell_type": "code",
   "execution_count": null,
   "metadata": {},
   "outputs": [],
   "source": [
    "### your code here"
   ]
  },
  {
   "cell_type": "markdown",
   "metadata": {},
   "source": [
    "*Sequential color palettes*\n",
    "\n",
    "The second major class of color palettes is called “sequential”. This kind of mapping is appropriate when data range from relatively low or uninteresting values to relatively high or interesting values (or vice versa). As we saw above, the primary dimension of variation in a sequential palette is luminance."
   ]
  },
  {
   "cell_type": "code",
   "execution_count": null,
   "metadata": {},
   "outputs": [],
   "source": [
    "palette = sns.color_palette(\"rocket\", 30)\n",
    "sns.palplot(palette)\n",
    "plt.show()"
   ]
  },
  {
   "cell_type": "markdown",
   "metadata": {},
   "source": [
    "As with the convention in matplotlib, every continuous colormap has a reversed version, which has the suffix \"_r\":"
   ]
  },
  {
   "cell_type": "code",
   "execution_count": null,
   "metadata": {},
   "outputs": [],
   "source": [
    "palette = sns.color_palette(\"rocket_r\", 30)\n",
    "sns.palplot(palette)\n",
    "plt.show()"
   ]
  },
  {
   "cell_type": "markdown",
   "metadata": {},
   "source": [
    "*diverging color palettes* \n",
    "\n",
    "These are used for data where both large low and high values are interesting and span a midpoint value (often 0) that should be demphasized. This type of color palette uses two different colors where each color depicts different points ranging from a common point in either direction. Consider a range of -10 to 10 so the value from -10 to 0 takes one color and values from 0 to 10 take another."
   ]
  },
  {
   "cell_type": "code",
   "execution_count": null,
   "metadata": {},
   "outputs": [],
   "source": [
    "palette = sns.color_palette(\"coolwarm\", 10)\n",
    "\n",
    "# diverging color palette\n",
    "sns.palplot(palette)\n",
    "plt.show()"
   ]
  },
  {
   "cell_type": "markdown",
   "metadata": {},
   "source": [
    "Or we can make a custom one, in which we want to go from pink to green in 11 steps:"
   ]
  },
  {
   "cell_type": "code",
   "execution_count": null,
   "metadata": {},
   "outputs": [],
   "source": [
    "palette = sns.color_palette('PiYG', 11)\n",
    "  \n",
    "# diverging color palette\n",
    "sns.palplot(palette)\n",
    "  \n",
    "plt.show()"
   ]
  },
  {
   "cell_type": "markdown",
   "metadata": {},
   "source": [
    "<font color='green'>**Exercise 6:**</font> Make our boxplot (the one we have been working with before) and use the pink-green color palette we just defined using `sns.set_palette()`"
   ]
  },
  {
   "cell_type": "code",
   "execution_count": null,
   "metadata": {},
   "outputs": [],
   "source": [
    "### your code here"
   ]
  },
  {
   "cell_type": "markdown",
   "metadata": {},
   "source": [
    "##### 5. Overlaying plots"
   ]
  },
  {
   "cell_type": "markdown",
   "metadata": {},
   "source": [
    "It's pretty straightforward to overlay plots using Seaborn, and it works the same way as with Matplotlib. For our final plot in seaborn, this is what we'll do:\n",
    "1. First, we'll make our figure larger using Matplotlib\n",
    "2. Then, we'll plot the boxplot\n",
    "3. Next, we'll plot the raw datapoints using stripplot. This time, we'll make the points black and a little transparent so they pop out more.\n",
    "4. Finally, we'll set a title using Matplotlib.\n"
   ]
  },
  {
   "cell_type": "code",
   "execution_count": null,
   "metadata": {},
   "outputs": [],
   "source": [
    "# Set figure size with matplotlib\n",
    "plt.figure(figsize=(10,6))\n",
    "palette = sns.color_palette('PiYG', 5)\n",
    "\n",
    "sns.set_palette(palette) \n",
    "\n",
    " \n",
    "# Create plot\n",
    "sns.boxplot(x='condition',\n",
    "               y='RT', \n",
    "               data=trials, \n",
    "               )\n",
    "sns.stripplot(x='condition', \n",
    "              y='RT', \n",
    "              data=trials, \n",
    "              color='k', # Make points black\n",
    "              alpha=0.3) # and slightly transparent\n",
    " \n",
    "# Set title with matplotlib\n",
    "plt.title('Boxplots with raw datapoints')"
   ]
  },
  {
   "cell_type": "markdown",
   "metadata": {},
   "source": [
    "<font color='green'>**Exercise 6:**</font> create a violinplot with a swarmplot on top of it to show the raw datapoints"
   ]
  },
  {
   "cell_type": "code",
   "execution_count": null,
   "metadata": {},
   "outputs": [],
   "source": [
    "### your code here "
   ]
  },
  {
   "attachments": {},
   "cell_type": "markdown",
   "metadata": {},
   "source": [
    "##### And more!\n",
    "\n",
    "This should give you some handles to get started with seaborn and matplotlib. If you have time left, you can try one of the following exercises:\n",
    "\n",
    "- <font color='green'>**Exercise 7:**</font> try to create a facetgrid to show both groups and conditions\n",
    "- <font color='green'>**Exercise 8:**</font> create a heatmap of the data (group x condition with RT represented by hue)\n",
    "- <font color='green'>**Exercise 9:**</font> include the incorrect trials in your data, and try to make a stacked barplot of the accuracy over conditions."
   ]
  }
 ],
 "metadata": {
  "interpreter": {
   "hash": "9650cb4e16cdd4a8e8e2d128bf38d875813998db22a3c986335f89e0cb4d7bb2"
  },
  "kernelspec": {
   "display_name": "Python 3.8.1 64-bit",
   "language": "python",
   "name": "python3"
  },
  "language_info": {
   "codemirror_mode": {
    "name": "ipython",
    "version": 3
   },
   "file_extension": ".py",
   "mimetype": "text/x-python",
   "name": "python",
   "nbconvert_exporter": "python",
   "pygments_lexer": "ipython3",
   "version": "3.8.1"
  },
  "orig_nbformat": 4
 },
 "nbformat": 4,
 "nbformat_minor": 2
}

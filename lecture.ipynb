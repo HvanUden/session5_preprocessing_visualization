{
 "cells": [
  {
   "attachments": {},
   "cell_type": "markdown",
   "metadata": {},
   "source": [
    "# Pre-processing and visualization in Python\n",
    "\n",
    "In this session, we'll teach you some basics on how to create nice-looking visualisations in Python. "
   ]
  },
  {
   "cell_type": "markdown",
   "metadata": {},
   "source": [
    "## A really quick refresher on data structures\n",
    "\n",
    "Usually, when visualizing, we work with large datasets, which need to be stored in a specific data structure. Python has several built in, most importantly lists and dictionaries."
   ]
  },
  {
   "cell_type": "code",
   "execution_count": null,
   "metadata": {},
   "outputs": [],
   "source": [
    "reaction_times = [713, 552, 473, 143, 638, 311, 668, 937, 621, 459]  # This is a list of reaction times\n",
    "print(reaction_times[3])  # This retrieves the 4th element (index 3)"
   ]
  },
  {
   "cell_type": "code",
   "execution_count": null,
   "metadata": {},
   "outputs": [],
   "source": [
    "# This is a dictionary with participant information:\n",
    "participant = {\n",
    "    'first_name': 'Marcus',\n",
    "    'last_name': 'Mcguire',\n",
    "    'age': 20\n",
    "}\n",
    "print(participant['last_name'])  # This retrieves the value belonging to the 'last_name' key"
   ]
  },
  {
   "cell_type": "markdown",
   "metadata": {},
   "source": [
    "How about... a list of lists? For instance, when you have multiple series of reaction times:"
   ]
  },
  {
   "cell_type": "code",
   "execution_count": null,
   "metadata": {},
   "outputs": [],
   "source": [
    "participants = ['Rhonda', 'Elizabeth', 'Tara']\n",
    "reaction_times = [\n",
    "    [713, 552, 473, 143, 638, 311, 668, 937, 621, 459],    # 0\n",
    "    [287, 750, 411, 410, 351, 1040, 1124, 891, 924, 664],  # 1\n",
    "    [342, 1063, 131, 485, 480, 159, 60, 389, 375, 653]     # 2\n",
    "]\n",
    "print(reaction_times[1][4])  # This retrieves the 5th (index 4) reaction time from the 2nd participant (index 1)"
   ]
  },
  {
   "cell_type": "markdown",
   "metadata": {},
   "source": [
    "Or, perhaps, a list of dictionaries?"
   ]
  },
  {
   "cell_type": "code",
   "execution_count": null,
   "metadata": {},
   "outputs": [],
   "source": [
    "students = [\n",
    "    {'first_name': 'Marcus', 'last_name': 'Mcguire', 'grade': 3.3},\n",
    "    {'first_name': 'Kristin', 'last_name': 'Cantu', 'grade': 2.7},\n",
    "    {'first_name': 'Adam', 'last_name': 'Mendez', 'grade': 3.7},\n",
    "    {'first_name': 'Kimberly', 'last_name': 'Wolf', 'grade': 2.7},\n",
    "    {'first_name': 'Judith', 'last_name': 'Johnson', 'grade': 3.0}\n",
    "]\n",
    "print(students[0]['grade'])  # This retrieves the grade of the 1st student (index 0)"
   ]
  },
  {
   "cell_type": "markdown",
   "metadata": {},
   "source": [
    "### But wait, there's a package for that!\n",
    "\n",
    "As you will know, or come to find out, Python has a great deal of packages to make your life easier! In particular, when working with data, you will want to use one of the following: `numpy` for working with matrices or N-dimensional arrays where all values are of the same type, and `pandas` for working with tabular data.\n",
    "\n",
    "For instance:"
   ]
  },
  {
   "cell_type": "code",
   "execution_count": null,
   "metadata": {},
   "outputs": [],
   "source": [
    "import numpy as np\n",
    "\n",
    "reaction_times = np.array(reaction_times)\n",
    "print(reaction_times)  # This is now a numpy array!"
   ]
  },
  {
   "cell_type": "markdown",
   "metadata": {},
   "source": [
    "Alternatively, with tabular data:"
   ]
  },
  {
   "cell_type": "code",
   "execution_count": null,
   "metadata": {},
   "outputs": [],
   "source": [
    "import pandas as pd\n",
    "\n",
    "students = pd.DataFrame(students)\n",
    "print(students)  # This is now a pandas DataFrame!"
   ]
  },
  {
   "cell_type": "markdown",
   "metadata": {},
   "source": [
    "## Data looks better in color!\n",
    "\n",
    "So let's turn our arrays and tables into plots! We will be introducing three plotting packages:\n",
    "\n",
    "- `matplotlib` -- forms the basis of (most) plotting in Python, and also acts as the foundation for our other two packages.\n",
    "- `seaborn` -- a more data-centric and simplified plotting package, for easy and beautiful plots!\n",
    "- `plotnine`  -- a `ggplot` clone for Python; very data-centric, but has a slightly steeper learning curve than `seaborn`. "
   ]
  },
  {
   "cell_type": "code",
   "execution_count": null,
   "metadata": {},
   "outputs": [],
   "source": [
    "from matplotlib import pyplot as plt\n",
    "\n",
    "plt.plot(reaction_times.T)  # The T is for Transpose!\n",
    "plt.show()"
   ]
  },
  {
   "cell_type": "code",
   "execution_count": null,
   "metadata": {},
   "outputs": [],
   "source": [
    "mean_reaction_times = reaction_times.mean(axis=1)  # Calculate the means across the 2nd axis (index 1); columns\n",
    "plt.bar(participants, mean_reaction_times)\n",
    "plt.show()"
   ]
  },
  {
   "cell_type": "code",
   "execution_count": null,
   "metadata": {},
   "outputs": [],
   "source": [
    "# We can also add another plot on top!\n",
    "std_reaction_times = reaction_times.std(axis=1)  # Calculate the means across the 2nd axis (index 1); columns\n",
    "plt.bar(participants, mean_reaction_times)\n",
    "plt.errorbar(participants, mean_reaction_times, std_reaction_times, fmt='k.')\n",
    "plt.show()"
   ]
  },
  {
   "cell_type": "markdown",
   "metadata": {},
   "source": [
    "Now, let's give `seaborn` a try!"
   ]
  },
  {
   "cell_type": "code",
   "execution_count": null,
   "metadata": {},
   "outputs": [],
   "source": [
    "import seaborn as sns\n",
    "from numpy import matlib\n",
    "\n",
    "# It can do some of the same things as matplotlib\n",
    "sns.barplot(x=participants, y=mean_reaction_times)\n",
    "plt.show()"
   ]
  },
  {
   "cell_type": "code",
   "execution_count": null,
   "metadata": {},
   "outputs": [],
   "source": [
    "# But in some ways, when working with DataFrames, seaborn becomes much nicer!\n",
    "sns.barplot(x='first_name', y='grade', data=students)\n",
    "plt.show()  # Hey, that's still matplotlib!"
   ]
  },
  {
   "cell_type": "markdown",
   "metadata": {},
   "source": [
    "Unfortunately, it's not so great at working with arrays -- so make sure your data is in the right format!\n",
    "\n",
    "The `plotnine` actually *only* works with DataFrames, but it provides much more freedom when constructing your plots:"
   ]
  },
  {
   "cell_type": "code",
   "execution_count": null,
   "metadata": {},
   "outputs": [],
   "source": [
    "import plotnine as gg\n",
    "from plotnine import ggplot\n",
    "\n",
    "plot = (\n",
    "    ggplot(gg.aes(x='first_name', y='grade'), data=students) +\n",
    "    gg.geom_col()\n",
    ")\n",
    "plot.draw()\n",
    "plt.show()"
   ]
  },
  {
   "cell_type": "code",
   "execution_count": null,
   "metadata": {},
   "outputs": [],
   "source": [
    "# Let's upgrade that a bit!\n",
    "students['min_grade'] = students['grade'] - 0.5\n",
    "students['max_grade'] = students['grade'] + 0.5\n",
    "plot = (\n",
    "    ggplot(gg.aes(x='first_name', y='grade'), data=students) +\n",
    "    gg.geom_col(gg.aes(fill='first_name')) +\n",
    "    gg.geom_errorbar(gg.aes(ymin='min_grade', ymax='max_grade')) +\n",
    "    gg.geom_point()\n",
    ")\n",
    "plot.draw()\n",
    "plt.show()"
   ]
  },
  {
   "cell_type": "markdown",
   "metadata": {},
   "source": [
    "## Now... let's practice!\n",
    "\n",
    "You can choose one of two sets of exercises (or, of course, both):\n",
    "\n",
    "- `exercises_seaborn`, which contains `seaborn` exercises, along with some `matplotlib` ways in which you can manipulate your `seaborn` plots after you made them;\n",
    "- `exercises_ggplot`, which contains `plotnine` exercises, using mostly its own ways to further manipulate plots."
   ]
  }
 ],
 "metadata": {
  "interpreter": {
   "hash": "9650cb4e16cdd4a8e8e2d128bf38d875813998db22a3c986335f89e0cb4d7bb2"
  },
  "kernelspec": {
   "display_name": "Python 3.8.1 64-bit",
   "language": "python",
   "name": "python3"
  },
  "language_info": {
   "codemirror_mode": {
    "name": "ipython",
    "version": 3
   },
   "file_extension": ".py",
   "mimetype": "text/x-python",
   "name": "python",
   "nbconvert_exporter": "python",
   "pygments_lexer": "ipython3",
   "version": "3.10.9"
  },
  "orig_nbformat": 4
 },
 "nbformat": 4,
 "nbformat_minor": 2
}

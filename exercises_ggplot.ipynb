{
 "cells": [
  {
   "cell_type": "code",
   "execution_count": null,
   "metadata": {},
   "outputs": [],
   "source": [
    "import pandas as pd\n",
    "import numpy as np\n",
    "\n",
    "from matplotlib import pyplot as plt"
   ]
  },
  {
   "cell_type": "markdown",
   "metadata": {},
   "source": [
    "### Plotnine's ggplot\n",
    "\n",
    "`ggplot` is a library mostly used for plotting in R, but `plotnine` provides a very nice port to Python. It is built on top of Matplotlib and provides pretty default styles and color palettes to make statistical plots more attractive.\n",
    " \n",
    "We will go through some different types of plots, and show you how to customise those to your heart's content!\n",
    "\n",
    "##### 0. Importing plotnine\n"
   ]
  },
  {
   "cell_type": "code",
   "execution_count": null,
   "metadata": {},
   "outputs": [],
   "source": [
    "import plotnine as gg\n",
    "from plotnine import ggplot"
   ]
  },
  {
   "cell_type": "markdown",
   "metadata": {},
   "source": [
    "Alright, now we only need some data:"
   ]
  },
  {
   "cell_type": "code",
   "execution_count": null,
   "metadata": {},
   "outputs": [],
   "source": [
    "participants = pd.read_csv('participants.csv')\n",
    "trials = pd.read_csv('trials.csv')\n",
    "\n",
    "merged = trials.merge(participants, on='id')\n",
    "merged"
   ]
  },
  {
   "attachments": {},
   "cell_type": "markdown",
   "metadata": {},
   "source": [
    "<font color='green'>**Exercise 0:**</font> can you filter out the incorrect trials? Later on, you can add them back in to see whether you can make some interesting plots with them."
   ]
  },
  {
   "cell_type": "code",
   "execution_count": null,
   "metadata": {},
   "outputs": [],
   "source": [
    "### your code here"
   ]
  },
  {
   "cell_type": "markdown",
   "metadata": {},
   "source": [
    "##### 1. Different geoms in ggplot\n",
    "\n",
    "In `ggplot`, different types of visual elements are called `geoms` -- and they are the building blocks of our plots! Let's explore a few of them.\n",
    "\n",
    "For instance, let's make a quick dotplot using `geom_point`:"
   ]
  },
  {
   "cell_type": "code",
   "execution_count": null,
   "metadata": {},
   "outputs": [],
   "source": [
    "plot = (\n",
    "    ggplot(gg.aes(x='age', y='RT'), data=merged) +\n",
    "    gg.geom_point()\n",
    ")\n",
    "plot.draw()\n",
    "plt.show()"
   ]
  },
  {
   "cell_type": "markdown",
   "metadata": {},
   "source": [
    "<font color='green'>**Exercise 1:**</font> can you add a `line` through this data? Perhaps even a `smooth` line? And can you `color` the points and/or lines according to their `condition`, by changing the `aes`thetic?"
   ]
  },
  {
   "cell_type": "code",
   "execution_count": null,
   "metadata": {},
   "outputs": [],
   "source": [
    "### your code here"
   ]
  },
  {
   "cell_type": "markdown",
   "metadata": {},
   "source": [
    "Now, how about a boxplot?"
   ]
  },
  {
   "cell_type": "code",
   "execution_count": null,
   "metadata": {},
   "outputs": [],
   "source": [
    "plot = (\n",
    "    ggplot(gg.aes(x='condition', y='RT'), data=merged) +\n",
    "    gg.geom_boxplot(gg.aes(fill='condition'))\n",
    ")\n",
    "plot.draw()\n",
    "plt.show()"
   ]
  },
  {
   "cell_type": "markdown",
   "metadata": {},
   "source": [
    "<font color='green'>**Exercise 2:**</font> can you make a `violin` plot of the conditions? And then, on top of that, can you draw all points? Perhaps you could even `jitter` them, so they don't all lie on the same vertical line?"
   ]
  },
  {
   "cell_type": "code",
   "execution_count": null,
   "metadata": {},
   "outputs": [],
   "source": [
    "### your code here"
   ]
  },
  {
   "cell_type": "markdown",
   "metadata": {},
   "source": [
    "##### 2. Different facets of the same data\n",
    "\n",
    "In `ggplot`, you can use facets to split up the data into different groups. For instance:"
   ]
  },
  {
   "cell_type": "code",
   "execution_count": null,
   "metadata": {},
   "outputs": [],
   "source": [
    "plot = (\n",
    "    ggplot(gg.aes(x='age', y='RT'), data=merged) +\n",
    "    gg.geom_smooth() +\n",
    "    gg.facet_wrap('condition')\n",
    ")\n",
    "plot.draw()\n",
    "plt.show()"
   ]
  },
  {
   "cell_type": "markdown",
   "metadata": {},
   "source": [
    "<font color='green'>**Exercise 3:**</font> can you extend this plot, so that it forms a `grid` with `condition`s as columns and `group`s as rows?"
   ]
  },
  {
   "cell_type": "code",
   "execution_count": null,
   "metadata": {},
   "outputs": [],
   "source": [
    "### your code here"
   ]
  },
  {
   "cell_type": "markdown",
   "metadata": {},
   "source": [
    "##### 3. Some basic cleaning\n",
    "\n",
    "Once your data looks nice, you might want to still pay attention to the axes and labels on your plot. Let's see how we do that using `ggplot`!"
   ]
  },
  {
   "cell_type": "code",
   "execution_count": null,
   "metadata": {},
   "outputs": [],
   "source": [
    "plot = (\n",
    "    ggplot(gg.aes(x='condition', y='RT'), data=merged) +\n",
    "    gg.geom_boxplot(gg.aes(fill='condition')) +\n",
    "    gg.labs(title='Title using ggplot', x='Condition', y='Reaction time (ms)')\n",
    ")\n",
    "plot.draw()\n",
    "plt.show()"
   ]
  },
  {
   "cell_type": "markdown",
   "metadata": {},
   "source": [
    "You can also remove the legend, since it's redundant here anyway:"
   ]
  },
  {
   "cell_type": "code",
   "execution_count": null,
   "metadata": {},
   "outputs": [],
   "source": [
    "plot = (\n",
    "    ggplot(gg.aes(x='condition', y='RT'), data=merged) +\n",
    "    gg.geom_boxplot(gg.aes(fill='condition')) +\n",
    "    gg.labs(title='Title using ggplot', x='Condition', y='Reaction time (ms)') +\n",
    "    gg.guides(fill=False)\n",
    ")\n",
    "plot.draw()\n",
    "plt.show()"
   ]
  },
  {
   "cell_type": "markdown",
   "metadata": {},
   "source": [
    "<font color='green'>**Exercise 4:**</font> can you figure out how to `lim`it the reaction time axis, so that it only shows values between 200 and 1000?"
   ]
  },
  {
   "cell_type": "code",
   "execution_count": null,
   "metadata": {},
   "outputs": [],
   "source": [
    "### your code here"
   ]
  },
  {
   "cell_type": "markdown",
   "metadata": {},
   "source": [
    "##### 4. Saving plots\n",
    "\n",
    "Of course, once you're done, you may want to export your plots! Luckily, this is very easy in `plotnine`:"
   ]
  },
  {
   "cell_type": "code",
   "execution_count": null,
   "metadata": {},
   "outputs": [],
   "source": [
    "plot.save('plot.pdf', width=8, height=6, units='cm')"
   ]
  },
  {
   "attachments": {},
   "cell_type": "markdown",
   "metadata": {},
   "source": [
    "##### And more!\n",
    "\n",
    "This should give you some handles to get started with `ggplot` in Python. If you have time left, you can try one of the following exercises:\n",
    "\n",
    "- <font color='green'>**Exercise 5:**</font> can you make your plots prettier? For instance, you can try to use a different `theme` or `palette` for your plots. You can also try to use `scale_x_continuous` and `scale_y_continuous` to change the axis labels.\n",
    "- <font color='green'>**Exercise 6:**</font> can you make a `heatmap` of the reaction times, with `condition`s as columns and `group`s as rows? You can use `stat_summary` to calculate the mean, and `geom_tile` to draw the heatmap.\n",
    "- <font color='green'>**Exercise 7:**</font> go back to include the incorrect trials in your data. Can you make a stacked barplot of the number of correct and incorrect trials per `condition` and `group`? You can use `geom_bar` to draw the bars, and `position_stack` to stack them."
   ]
  }
 ],
 "metadata": {
  "interpreter": {
   "hash": "9650cb4e16cdd4a8e8e2d128bf38d875813998db22a3c986335f89e0cb4d7bb2"
  },
  "kernelspec": {
   "display_name": "Python 3.8.1 64-bit",
   "language": "python",
   "name": "python3"
  },
  "language_info": {
   "codemirror_mode": {
    "name": "ipython",
    "version": 3
   },
   "file_extension": ".py",
   "mimetype": "text/x-python",
   "name": "python",
   "nbconvert_exporter": "python",
   "pygments_lexer": "ipython3",
   "version": "3.8.1"
  },
  "orig_nbformat": 4
 },
 "nbformat": 4,
 "nbformat_minor": 2
}
